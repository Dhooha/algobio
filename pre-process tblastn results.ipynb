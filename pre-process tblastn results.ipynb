{
 "cells": [
  {
   "cell_type": "code",
   "execution_count": 2,
   "metadata": {
    "collapsed": false
   },
   "outputs": [],
   "source": [
    "#process the .faa for every AAv serotype\n",
    "#to know the length of its Rep  and Cap components\n",
    "#output: virus dictionary: dv ={virus_ref:(virus_seroptype, rep_cap, length)}\n",
    "\n",
    "\n",
    "import os\n",
    "vpath = \"C:/Users/abidd/Dropbox/algobio/data-aav/\" #virus path\n",
    "dv = {}\n",
    "\n",
    "for f in os.listdir(vpath): #loop over all the serotypes\n",
    "    if f.endswith(\".faa\"):\n",
    "        aav = f[0:4]\n",
    "        with open(vpath + f, 'r') as faa: #open every .faa file and loop over its lines\n",
    "            for line in faa:\n",
    "                if line.startswith(\">\"):\n",
    "                    l = 0 #initialize the length of aa to zero\n",
    "                    #extract Rep or Cap reference\n",
    "                    ref = line[line.find(\"ref\")+4: line.find(\"|\", line.find(\"ref\")+4)] \n",
    "                    #extract Rep or Cap or others\n",
    "                    rc = line[line.find(\"|\", line.find(\"ref\")+4)+1: line.find(\"[\", line.find(\"|\", line.find(\"ref\")+4)+1)]\n",
    "                else:\n",
    "                    #count number aa in that sequence\n",
    "                    l += len(line.strip(' \\t\\n\\r\\n')) #trim any white space or carriage return\n",
    "                    dv[ref] = (aav, rc, l)\n",
    "#print dv"
   ]
  },
  {
   "cell_type": "code",
   "execution_count": 3,
   "metadata": {
    "collapsed": false
   },
   "outputs": [],
   "source": [
    "#process the output of the tblastn file (tabular format)/ input: tblastn-o6-100.dat\n",
    "#the output of this script is of format: /output: tblastn-o6-100-p.dat\n",
    "#aav,qseqid,sseqid,pident,length,mismatch,gapopen,qstart,qend,sstart,send,evalue,bitscore\n",
    "#AAV1,gi|9632549|ref|NP_049541.1|,chr4,34.247,73,43,2,387,459,106213428,106213225,1.8,38.1\n",
    "rpath = \"C:/Users/abidd/Dropbox/algobio/res-tblastn/\" #\"/research/dabid/results/\"\n",
    "ifname = \"tblastn-o6-100-B45.dat\"\n",
    "ofname = \"tblastn-o6-100-B45-p.csv\"\n",
    "\n",
    "import os\n",
    "import re\n",
    "\n",
    "#delete the output file if exist\n",
    "try:\n",
    "    os.remove(rpath+ofname)\n",
    "except OSError:\n",
    "    print ofname, \"output file cannot be deleted\"\n",
    "    pass\n",
    "\n",
    "#write the header of the output file\n",
    "with open(rpath + ofname, 'a') as ouf:\n",
    "    ouf.write(\"rc,aav,qseqid,sseqid,pident,length,mismatch,gapopen,qstart,qend,sstart,send,evalue,bitscore\\r\")  \n",
    "    #rc refers to rep/cap\n",
    "\n",
    "#process the output file \n",
    "with open(rpath + ifname, 'r') as inf:\n",
    "    for line in inf:\n",
    "        if line.find(\"Adeno\") != -1: #serotype row, skip it\n",
    "            #aav= line[25:len(line)-10]\n",
    "            continue\n",
    "        else:\n",
    "            with open(rpath + ofname, 'a') as ouf: #to write the remaining of the line\n",
    "                ref= line[line.find(\"ref\")+4: line.find(\"|\", line.find(\"ref\")+4)] \n",
    "                aav, rc, l = dv[ref]\n",
    "                pline = re.sub('\\t', ',', line) #subsitute all the tab to \",\"\n",
    "                ouf.write(rc.strip(' ')+','+aav.upper()+','+pline)  \n",
    "        "
   ]
  },
  {
   "cell_type": "code",
   "execution_count": 3,
   "metadata": {
    "collapsed": false
   },
   "outputs": [
    {
     "name": "stdout",
     "output_type": "stream",
     "text": [
      "chromosome chr8_KI270926v1_alt , nbre of hits 1\n",
      "chromosome chrX , nbre of hits 5\n",
      "chromosome chr13 , nbre of hits 8\n",
      "chromosome chr11 , nbre of hits 5\n",
      "chromosome chr10 , nbre of hits 1\n",
      "chromosome chr17 , nbre of hits 8\n",
      "chromosome chr16 , nbre of hits 3\n",
      "chromosome chr15 , nbre of hits 3\n",
      "chromosome chr14 , nbre of hits 9\n",
      "chromosome chr19 , nbre of hits 4\n",
      "chromosome chr18 , nbre of hits 5\n",
      "chromosome chr9_KI270823v1_alt , nbre of hits 1\n",
      "chromosome chr22 , nbre of hits 9\n",
      "chromosome chr21 , nbre of hits 2\n",
      "chromosome chr7 , nbre of hits 9\n",
      "chromosome chr3 , nbre of hits 9\n",
      "chromosome chr1 , nbre of hits 7\n",
      "chromosome chr9 , nbre of hits 3\n",
      "chromosome chr17_KI270857v1_alt , nbre of hits 1\n",
      "chromosome chr14_KI270846v1_alt , nbre of hits 1\n"
     ]
    }
   ],
   "source": [
    "#%matplotlib notebook #to plot the figure inline on notebook\n",
    "\n",
    "import matplotlib.pyplot as plt\n",
    "import plotly.plotly as py\n",
    "import numpy as np\n",
    "import matplotlib.cm as cm\n",
    "import colorsys\n",
    "\n",
    "data_dict ={}\n",
    "\n",
    "with open(ipath + ofname, 'r') as inf:\n",
    "    for line in inf:\n",
    "        if line.find(\"aav\") != -1:\n",
    "            continue\n",
    "        aav,qseqid,sseqid,pident,length,mismatch,gapopen,qstart,qend,sstart,send,evalue,bitscore = line.split(\",\")\n",
    "        if data_dict.get(sseqid) is None:\n",
    "            data_dict[sseqid] = [float(pident)]\n",
    "        else:\n",
    "            data_dict[sseqid] = data_dict[sseqid]+ [float(pident)]\n",
    "\n",
    "#in case of using customized colors\n",
    "#number = 10\n",
    "#cmap = plt.get_cmap('gnuplot')\n",
    "#colors = [cmap(i) for i in np.linspace(0, 0.9, number)]\n",
    "\n",
    "fig = plt.figure(figsize=(13, 5), dpi=100) #define the size of the figure\n",
    "\n",
    "for chrs in data_dict.keys():#go through the data_dict to plot \n",
    "#for chrs, color xzip(in data_dict.keys(), colors) #to use the customized colors\n",
    "    if len(data_dict[chrs])<=9: #skip the chromosome that have less than 10 hits\n",
    "        print 'chromosome', chrs, ', nbre of hits', len(data_dict[chrs]) # to output all the skipped chromosomes\n",
    "        continue\n",
    "    plt.hist(data_dict[chrs], label=chrs, histtype = 'step') #color=color\n",
    "\n",
    "plt.legend(loc='upper center', ncol=5, mode=\"expand\", borderaxespad=0.)\n",
    "plt.xlim(20, 45)\n",
    "plt.ylim(0, 20)\n",
    "plt.xlabel('Percentage of matches', fontsize=18)\n",
    "plt.ylabel('Number of mapped matches', fontsize=16)\n",
    "plt.xticks(np.arange(20, 45, 1))\n",
    "plt.show()"
   ]
  },
  {
   "cell_type": "code",
   "execution_count": null,
   "metadata": {
    "collapsed": true
   },
   "outputs": [],
   "source": []
  }
 ],
 "metadata": {
  "anaconda-cloud": {},
  "kernelspec": {
   "display_name": "Python [Root]",
   "language": "python",
   "name": "Python [Root]"
  },
  "language_info": {
   "codemirror_mode": {
    "name": "ipython",
    "version": 2
   },
   "file_extension": ".py",
   "mimetype": "text/x-python",
   "name": "python",
   "nbconvert_exporter": "python",
   "pygments_lexer": "ipython2",
   "version": "2.7.12"
  }
 },
 "nbformat": 4,
 "nbformat_minor": 1
}
